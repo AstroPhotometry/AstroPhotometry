{
 "cells": [
  {
   "cell_type": "markdown",
   "metadata": {},
   "source": [
    "https://docs.astropy.org/en/stable/io/fits/index.html"
   ]
  },
  {
   "cell_type": "markdown",
   "metadata": {},
   "source": [
    "## imports"
   ]
  },
  {
   "cell_type": "code",
   "execution_count": 2,
   "metadata": {},
   "outputs": [],
   "source": [
    "import matplotlib.pyplot as plt\n",
    "from astropy.visualization import astropy_mpl_style\n",
    "plt.style.use(astropy_mpl_style)\n",
    "\n",
    "from astropy.io import fits"
   ]
  },
  {
   "cell_type": "markdown",
   "metadata": {},
   "source": [
    "## open file"
   ]
  },
  {
   "cell_type": "code",
   "execution_count": 52,
   "metadata": {},
   "outputs": [
    {
     "name": "stdout",
     "output_type": "stream",
     "text": [
      "Filename: data_test/flats/Cal-0002flat6.fit\n",
      "No.    Name      Ver    Type      Cards   Dimensions   Format\n",
      "  0  PRIMARY       1 PrimaryHDU      39   (4524, 3624)   int16 (rescales to uint16)   \n"
     ]
    },
    {
     "ename": "AttributeError",
     "evalue": "'PrimaryHDU' object has no attribute 'info'",
     "output_type": "error",
     "traceback": [
      "\u001b[1;31m---------------------------------------------------------------------------\u001b[0m",
      "\u001b[1;31mAttributeError\u001b[0m                            Traceback (most recent call last)",
      "\u001b[1;32m~\\AppData\\Local\\Temp/ipykernel_6308/214775929.py\u001b[0m in \u001b[0;36m<module>\u001b[1;34m\u001b[0m\n\u001b[0;32m      1\u001b[0m \u001b[0mimage_file\u001b[0m \u001b[1;33m=\u001b[0m \u001b[0mfits\u001b[0m\u001b[1;33m.\u001b[0m\u001b[0mopen\u001b[0m\u001b[1;33m(\u001b[0m\u001b[1;34m\"data_test/flats/Cal-0002flat6.fit\"\u001b[0m\u001b[1;33m)\u001b[0m \u001b[1;31m# its an array of objects\u001b[0m\u001b[1;33m\u001b[0m\u001b[1;33m\u001b[0m\u001b[0m\n\u001b[0;32m      2\u001b[0m \u001b[0mimage_file\u001b[0m\u001b[1;33m.\u001b[0m\u001b[0minfo\u001b[0m\u001b[1;33m(\u001b[0m\u001b[1;33m)\u001b[0m\u001b[1;33m\u001b[0m\u001b[1;33m\u001b[0m\u001b[0m\n\u001b[1;32m----> 3\u001b[1;33m \u001b[0mimage_file\u001b[0m\u001b[1;33m[\u001b[0m\u001b[1;36m0\u001b[0m\u001b[1;33m]\u001b[0m\u001b[1;33m.\u001b[0m\u001b[0minfo\u001b[0m\u001b[1;33m(\u001b[0m\u001b[1;33m)\u001b[0m\u001b[1;33m\u001b[0m\u001b[1;33m\u001b[0m\u001b[0m\n\u001b[0m",
      "\u001b[1;31mAttributeError\u001b[0m: 'PrimaryHDU' object has no attribute 'info'"
     ]
    }
   ],
   "source": [
    "\n",
    "image_file = fits.open(\"data_test/flats/Cal-0002flat6.fit\") # its an array of objects\n",
    "image_file.info()"
   ]
  },
  {
   "cell_type": "markdown",
   "metadata": {},
   "source": [
    "## write header to file"
   ]
  },
  {
   "cell_type": "code",
   "execution_count": 46,
   "metadata": {},
   "outputs": [],
   "source": [
    "txt_file = open(\"header.txt\",'w+')\n",
    "txt_file.write(repr(image_file[0].header))\n",
    "txt_file.close()"
   ]
  },
  {
   "cell_type": "markdown",
   "metadata": {},
   "source": [
    "## open only the data"
   ]
  },
  {
   "cell_type": "code",
   "execution_count": 49,
   "metadata": {},
   "outputs": [
    {
     "name": "stdout",
     "output_type": "stream",
     "text": [
      "(100, 100)\n"
     ]
    }
   ],
   "source": [
    "image_data = fits.getdata(\"data_test/test_photo.fits\", ext=0)\n",
    "print(image_data.shape)"
   ]
  },
  {
   "cell_type": "markdown",
   "metadata": {},
   "source": [
    "## open only the headers"
   ]
  },
  {
   "cell_type": "code",
   "execution_count": 50,
   "metadata": {},
   "outputs": [
    {
     "name": "stdout",
     "output_type": "stream",
     "text": [
      "257\n"
     ]
    },
    {
     "data": {
      "text/plain": [
       "<bound method Header.keys of SIMPLE  =                    T / file does conform to FITS standard             \n",
       "BITPIX  =                  -32 / number of bits per data pixel                  \n",
       "NAXIS   =                    2 / number of data axes                            \n",
       "NAXIS1  =                  100 / length of data axis 1                          \n",
       "NAXIS2  =                  100 / length of data axis 2                          \n",
       "EXTEND  =                    T / FITS dataset may contain extensions            \n",
       "COMMENT   FITS (Flexible Image Transport System) format is defined in 'Astronomy\n",
       "COMMENT   and Astrophysics', volume 376, page 359; bibcode: 2001A&A...376..359H \n",
       "ORIGIN  = 'NOAO-IRAF FITS Image Kernel December 2001' / FITS file originator    \n",
       "DATE    = '2003-07-24T18:28:58' / Date FITS file was generated                  \n",
       "IRAF-TLM= '10:28:58 (24/07/2003)' / Time of last modification                   \n",
       "OBJECT  = 'U5780205B[1/4]'     / Name of the object observed                    \n",
       "CRVAL1  =      182.62570646887                                                  \n",
       "CRVAL2  =       39.41233768771                                                  \n",
       "CRPIX1  = -2.135000000000000E+02                                                \n",
       "CRPIX2  = -2.040000000000000E+02                                                \n",
       "CD1_1   =          2.756050E-5                                                  \n",
       "CD1_2   =         -2.082210E-6                                                  \n",
       "CD2_1   =         -2.080210E-6                                                  \n",
       "CD2_2   =         -2.758710E-5                                                  \n",
       "MIR_REVR=                    T                                                  \n",
       "ORIENTAT=             -174.798                                                  \n",
       "FILLCNT =                    0                                                  \n",
       "ERRCNT  =                    0                                                  \n",
       "FPKTTIME=         51229.799079                                                  \n",
       "LPKTTIME=         51229.799246                                                  \n",
       "CTYPE1  = 'RA---TAN'                                                            \n",
       "CTYPE2  = 'DEC--TAN'                                                            \n",
       "DETECTOR=                    4                                                  \n",
       "DEZERO  =             311.7072                                                  \n",
       "BIASEVEN=             311.7648                                                  \n",
       "BIASODD =             311.6496                                                  \n",
       "GOODMIN =            -3.289304                                                  \n",
       "GOODMAX =              3420.24                                                  \n",
       "DATAMEAN=            0.7084697                                                  \n",
       "GPIXELS =               628289                                                  \n",
       "SOFTERRS=                    0                                                  \n",
       "CALIBDEF=                 1816                                                  \n",
       "STATICD =                    0                                                  \n",
       "ATODSAT =                   57                                                  \n",
       "DATALOST=                    0                                                  \n",
       "BADPIXEL=                    0                                                  \n",
       "OVERLAP =                    0                                                  \n",
       "PHOTMODE= 'WFPC2,4,A2D7,FR533P15,,CAL                      '                    \n",
       "PHOTFLAM=         8.566962E-19                                                  \n",
       "PHOTZPT =                -21.1                                                  \n",
       "PHOTPLAM=             5782.972                                                  \n",
       "PHOTBW  =             2070.218                                                  \n",
       "MEDIAN  =          -0.06821804                                                  \n",
       "MEDSHADO=          -0.03253492                                                  \n",
       "HISTWIDE=            0.9845759                                                  \n",
       "SKEWNESS=            -4.585337                                                  \n",
       "MEANC10 =            0.1359666                                                  \n",
       "MEANC25 =           0.04015671                                                  \n",
       "MEANC50 =            0.1129934                                                  \n",
       "MEANC100=             1.897491                                                  \n",
       "MEANC200=            0.9687142                                                  \n",
       "MEANC300=              1.05377                                                  \n",
       "BACKGRND=            0.3467301                                                  \n",
       "FILETYPE= 'SCI      '          / type of data found in data file                \n",
       "                                                                                \n",
       "TELESCOP= 'HST'                / telescope used to acquire data                 \n",
       "INSTRUME= 'WFPC2 '             / identifier for instrument used to acquire data \n",
       "EQUINOX =               2000.0 / equinox of celestial coord. system             \n",
       "                                                                                \n",
       "              / WFPC-II DATA DESCRIPTOR KEYWORDS                                \n",
       "                                                                                \n",
       "ROOTNAME= 'u5780205r            ' / rootname of the observation set             \n",
       "PROCTIME=   5.284443195602E+04 / Pipeline processing time (MJD)                 \n",
       "OPUS_VER= 'OPUS 14.3b        ' / OPUS software system version number            \n",
       "CAL_VER = '                        ' / CALWP2 code version                      \n",
       "                                                                                \n",
       "              / SCIENCE INSTRUMENT CONFIGURATION                                \n",
       "                                                                                \n",
       "MODE    = 'FULL'               / instr. mode: FULL (full res.), AREA (area int.)\n",
       "SERIALS = 'OFF'                / serial clocks: ON, OFF                         \n",
       "                                                                                \n",
       "              / IMAGE TYPE CHARACTERISTICS                                      \n",
       "                                                                                \n",
       "IMAGETYP= 'EXT               ' / DARK/BIAS/IFLAT/UFLAT/VFLAT/KSPOT/EXT/ECAL     \n",
       "CDBSFILE= 'NO                ' / GENERIC/BIAS/DARK/PREF/FLAT/MASK/ATOD/NO       \n",
       "PKTFMT  =                   96 / packet format code                             \n",
       "                                                                                \n",
       "              / FILTER CONFIGURATION                                            \n",
       "                                                                                \n",
       "FILTNAM1= 'FR533P15'           / first filter name                              \n",
       "FILTNAM2= '        '           / second filter name                             \n",
       "FILTER1 =                   69 / first filter number (0-48)                     \n",
       "FILTER2 =                    0 / second filter number (0-48)                    \n",
       "FILTROT =                 15.0 / partial filter rotation angle (degrees)        \n",
       "LRFWAVE =          4877.000000 / linear ramp filter wavelength                  \n",
       "                                                                                \n",
       "              / INSTRUMENT STATUS USED IN DATA PROCESSING                       \n",
       "                                                                                \n",
       "UCH1CJTM=             -88.2569 / TEC cold junction #1 temperature (Celsius)     \n",
       "UCH2CJTM=             -88.6697 / TEC cold junction #2 temperature (Celsius)     \n",
       "UCH3CJTM=             -88.3028 / TEC cold junction #3 temperature (Celsius)     \n",
       "UCH4CJTM=             -88.7671 / TEC cold junction #4 temperature (Celsius)     \n",
       "UBAY3TMP=              13.2302 / bay 3 A1 temperature (deg C)                   \n",
       "KSPOTS  = 'OFF'                / Status of Kelsall spot lamps: ON, OFF          \n",
       "SHUTTER = 'A'                  / Shutter in place at beginning of the exposure  \n",
       "ATODGAIN=                  7.0 / Analog to Digital Gain (Electrons/DN)          \n",
       "                                                                                \n",
       "              / RSDP CONTROL KEYWORDS                                           \n",
       "                                                                                \n",
       "MASKCORR= 'COMPLETE'           / Do mask correction: PERFORM, OMIT, COMPLETE    \n",
       "ATODCORR= 'COMPLETE'           / Do A-to-D correction: PERFORM, OMIT, COMPLETE  \n",
       "BLEVCORR= 'COMPLETE'           / Do bias level correction                       \n",
       "BIASCORR= 'COMPLETE'           / Do bias correction: PERFORM, OMIT, COMPLETE    \n",
       "DARKCORR= 'COMPLETE'           / Do dark correction: PERFORM, OMIT, COMPLETE    \n",
       "FLATCORR= 'SKIPPED '           / Do flat field correction                       \n",
       "SHADCORR= 'OMIT    '           / Do shaded shutter correction                   \n",
       "DOSATMAP= 'OMIT    '           / Output saturated pixel map                     \n",
       "DOPHOTOM= 'COMPLETE'           / Fill photometry keywords                       \n",
       "DOHISTOS= 'OMIT    '           / Make histograms: PERFORM, OMIT, COMPLETE       \n",
       "OUTDTYPE= 'REAL  '             / Output image datatype: REAL, LONG, SHORT       \n",
       "                                                                                \n",
       "              / CALIBRATION REFERENCE FILES                                     \n",
       "                                                                                \n",
       "MASKFILE= 'uref$f8213081u.r0h     ' / name of the input DQF of known bad pixels \n",
       "ATODFILE= 'uref$dbu1405iu.r1h'      / name of the A-to-D conversion file        \n",
       "BLEVFILE= 'ucal$u5780205r.x0h     ' / Engineering file with extended register da\n",
       "BLEVDFIL= 'ucal$u5780205r.q1h     ' / Engineering file DQF                      \n",
       "BIASFILE= 'uref$j9a1612mu.r2h'      / name of the bias frame reference file     \n",
       "BIASDFIL= 'uref$j9a1612mu.b2h'      / name of the bias frame reference DQF      \n",
       "DARKFILE= 'uref$j2g1549cu.r3h'      / name of the dark reference file           \n",
       "DARKDFIL= 'uref$j2g1549cu.b3h'      / name of the dark reference DQF            \n",
       "FLATFILE= 'uref$f4i1559cu.r4h'      / name of the flat field reference file     \n",
       "FLATDFIL= 'uref$f4i1559cu.b4h'      / name of the flat field reference DQF      \n",
       "SHADFILE= 'uref$e371355eu.r5h'      / name of the reference file for shutter sha\n",
       "PHOTTAB = '                       ' / name of the photometry calibration table  \n",
       "GRAPHTAB= 'mtab$n3d14531m_tmg.fits' / the HST graph table                       \n",
       "COMPTAB = 'mtab$n431303km_tmc.fits' / the HST components table                  \n",
       "                                                                                \n",
       "              / DEFAULT KEYWORDS SET BY STSCI                                   \n",
       "                                                                                \n",
       "SATURATE=                 4095 / Data value at which saturation occurs          \n",
       "USCALE  =                  1.0 / Scale factor for output image                  \n",
       "UZERO   =                  0.0 / Zero point for output image                    \n",
       "                                                                                \n",
       "              / READOUT DURATION INFORMATION                                    \n",
       "                                                                                \n",
       "READTIME=                  464 / Length of time for CCD readout in clock ticks  \n",
       "                                                                                \n",
       "              / PLANETARY SCIENCE KEYWORDS                                      \n",
       "                                                                                \n",
       "PA_V3   =            49.936909 / position angle of V3-axis of HST (deg)         \n",
       "RA_SUN  =   3.337194516616E+02 / right ascension of the sun (deg)               \n",
       "DEC_SUN =  -1.086675160382E+01 / declination of the sun (deg)                   \n",
       "EQNX_SUN=               2000.0 / equinox of the sun                             \n",
       "MTFLAG  =                    F / moving target flag; T if it is a moving target \n",
       "EQRADTRG=             0.000000 / equatorial radius of target (km)               \n",
       "FLATNTRG=             0.000000 / flattening of target                           \n",
       "NPDECTRG=             0.000000 / north pole declination of target (deg)         \n",
       "NPRATRG =             0.000000 / north pole right ascension of target (deg)     \n",
       "ROTRTTRG=             0.000000 / rotation rate of target                        \n",
       "LONGPMER=             0.000000 / longitude of prime meridian (deg)              \n",
       "EPLONGPM=             0.000000 / epoch of longitude of prime meridian (sec)     \n",
       "SURFLATD=             0.000000 / surface feature latitude (deg)                 \n",
       "SURFLONG=             0.000000 / surface feature longitude (deg)                \n",
       "SURFALTD=             0.000000 / surface feature altitude (km)                  \n",
       "                                                                                \n",
       "              / PODPS FILL VALUES                                               \n",
       "                                                                                \n",
       "PODPSFF =                    0 / 0=(no  podps fill); 1=(podps fill present)     \n",
       "STDCFFF =                    0 / 0=(no st dcf fill); 1=(st dcf fill present)    \n",
       "STDCFFP = '0x5569'             / st dcf fill pattern (hex)                      \n",
       "RSDPFILL=                 -100 / bad data fill value for calibrated images      \n",
       "                                                                                \n",
       "              / EXPOSURE TIME AND RELATED INFORMATION                           \n",
       "                                                                                \n",
       "UEXPODUR=                  300 / commanded duration of exposure (sec)           \n",
       "NSHUTA17=                    1 / Number of AP17 shutter B closes                \n",
       "DARKTIME=   3.000000000000E+02 / Dark time (seconds)                            \n",
       "UEXPOTIM=                16880 / Major frame pulse time preceding exposure start\n",
       "PSTRTIME= '1999.051:19:08:37 ' / predicted obs. start time (yyyy.ddd:hh:mm:ss)  \n",
       "PSTPTIME= '1999.051:19:16:37 ' / predicted obs. stop time (yyyy.ddd:hh:mm:ss)   \n",
       "                                                                                \n",
       "              / EXPOSURE INFORMATION                                            \n",
       "                                                                                \n",
       "SUNANGLE=           141.618347 / angle between sun and V1 axis                  \n",
       "MOONANGL=           126.698997 / angle between moon and V1 axis                 \n",
       "SUN_ALT =           -31.523479 / altitude of the sun above Earth's limb         \n",
       "FGSLOCK = 'FINE              ' / commanded FGS lock (FINE,COARSE,GYROS,UNKNOWN) \n",
       "                                                                                \n",
       "DATE-OBS= '1999-02-20'         / UT date of start of observation (yyyy-mm-dd)   \n",
       "TIME-OBS= '19:03:13'           / UT time of start of observation (hh:mm:ss)     \n",
       "EXPSTART=   5.122979390428E+04 / exposure start time (Modified Julian Date)     \n",
       "EXPEND  =   5.122979737650E+04 / exposure end time (Modified Julian Date)       \n",
       "EXPTIME =                 300. / exposure duration (seconds)--calculated        \n",
       "EXPFLAG = 'NORMAL       '      / Exposure interruption indicator                \n",
       "                                                                                \n",
       "              / TARGET & PROPOSAL ID                                            \n",
       "TARGNAME= 'NGC4151                       ' / proposer's target name             \n",
       "RA_TARG =   1.826355000000E+02 / right ascension of the target (deg) (J2000)    \n",
       "DEC_TARG=   3.940576666667E+01 / declination of the target (deg) (J2000)        \n",
       "ECL_LONG=           164.096619 / ecliptic longitude of the target (deg) (J2000) \n",
       "ECL_LAT =            36.623709 / ecliptic latitude of the target (deg) (J2000)  \n",
       "GAL_LONG=           155.079532 / galactic longitude of the target (deg) (J2000) \n",
       "GAL_LAT =            75.062679 / galactic latitude of the target (deg) (J2000)  \n",
       "                                                                                \n",
       "PROPOSID=                 8019 / PEP proposal identifier                        \n",
       "PEP_EXPO= '02-030         '    / PEP exposure identifier including sequence     \n",
       "LINENUM = '02.030         '    / PEP proposal line number                       \n",
       "SEQLINE = '               '    / PEP line number of defined sequence            \n",
       "SEQNAME = '               '    / PEP define/use sequence name                   \n",
       "HISTORY   MASKFILE=uref$f8213081u.r0h  MASKCORR=COMPLETED                       \n",
       "HISTORY   PEDIGREE=INFLIGHT 01/01/1994 - 15/05/1995                             \n",
       "HISTORY   DESCRIP=STATIC MASK - INCLUDES CHARGE TRANSFER TRAPS                  \n",
       "HISTORY   BIASFILE=uref$j9a1612mu.r2h  BIASCORR=COMPLETED                       \n",
       "HISTORY   PEDIGREE=INFLIGHT 29/08/98 - 21/08/99                                 \n",
       "HISTORY   DESCRIP=not significantly different from j6e16008u.                   \n",
       "HISTORY   DARKFILE=uref$j2g1549cu.r3h  DARKCORR=COMPLETED                       \n",
       "HISTORY   PEDIGREE=INFLIGHT 16/02/1999 - 16/02/1999                             \n",
       "HISTORY   DESCRIP=Pipeline dark: 120 frame superdark with hotpixels from        \n",
       "HISTORY   16/02/99                                                              \n",
       "HISTORY   FLATFILE=uref$f4i1559cu.r4h  FLATCORR=SKIPPED                         \n",
       "HISTORY   PEDIGREE=DUMMY  18/04/1995                                            \n",
       "HISTORY   DESCRIP=All pixels set to value of 1. Not flat-fielded.               \n",
       "HISTORY   PC1: bias jump level ~0.100 DN.                                       \n",
       "HISTORY   The following throughput tables were used:                            \n",
       "HISTORY   crotacomp$hst_ota_007_syn.fits, crwfpc2comp$wfpc2_optics_006_syn.fits,\n",
       "HISTORY   crwfpc2comp$wfpc2_dqepc1_005_syn.fits,                                \n",
       "HISTORY   crwfpc2comp$wfpc2_a2d7pc1_004_syn.fits,                               \n",
       "HISTORY   crwfpc2comp$wfpc2_flatpc1_003_syn.fits                                \n",
       "HISTORY   The following throughput tables were used:                            \n",
       "HISTORY   crotacomp$hst_ota_007_syn.fits, crwfpc2comp$wfpc2_optics_006_syn.fits,\n",
       "HISTORY   crwfpc2comp$wfpc2_dqewfc2_005_syn.fits,                               \n",
       "HISTORY   crwfpc2comp$wfpc2_a2d7wf2_004_syn.fits,                               \n",
       "HISTORY   crwfpc2comp$wfpc2_flatwf2_003_syn.fits                                \n",
       "HISTORY   The following throughput tables were used:                            \n",
       "HISTORY   crotacomp$hst_ota_007_syn.fits, crwfpc2comp$wfpc2_optics_006_syn.fits,\n",
       "HISTORY   crwfpc2comp$wfpc2_dqewfc3_005_syn.fits,                               \n",
       "HISTORY   crwfpc2comp$wfpc2_a2d7wf3_004_syn.fits,                               \n",
       "HISTORY   crwfpc2comp$wfpc2_flatwf3_003_syn.fits                                \n",
       "HISTORY   The following throughput tables were used:                            \n",
       "HISTORY   crotacomp$hst_ota_007_syn.fits, crwfpc2comp$wfpc2_optics_006_syn.fits,\n",
       "HISTORY   crwfpc2comp$wfpc2_dqewfc4_005_syn.fits,                               \n",
       "HISTORY   crwfpc2comp$wfpc2_a2d7wf4_004_syn.fits,                               \n",
       "HISTORY   crwfpc2comp$wfpc2_flatwf4_003_syn.fits                                \n",
       "HISTORY   Ran task WARMPIX, version 1.1 (Sep 28, 1999) at Thu 10:24:40          \n",
       "HISTORY   24-Jul-2003, rej_thresh=0.10000, fix_thresh=0.00300,                  \n",
       "HISTORY   var_thresh=0.00300,                                                   \n",
       "HISTORY   fix_dqval=1024, rej_val=INDEF                                         \n",
       "SKYSUB1 =                   0. / Sky value for chip 1                           \n",
       "PYS_VERS=                  1.8 / PyStack.py: Version                            \n",
       "IRAF_I  = 'IRAF V2.12.1 July 2002 release:2.12'                                 \n",
       "STAC_I  = '$RCSfile: imstack_imshift_imcomb.cl,v $ $Revision: 1.1 $'            \n",
       "PYS_ITER=                    5 / PyStack.py: Number of iterations               \n",
       "PYS_HEXP=                    2 / PyStack.py: Value of exponent                  \n",
       "SKYSUB2 =                 0.01 / Sky value for chip 2                           \n",
       "SKYSUB3 =                -0.08 / Sky value for chip 3                           \n",
       "SKYSUB4 =                -0.03 / Sky value for chip 4                           \n",
       "NCOMBINE=                    2 / Number of exposures for this association       \n",
       "HISTORY   Ran task WMOSAIC, version 2.1 (Jun 1995), at Thu 10:28:58 24-Jul-2003 \n",
       "COMMENT                                                                         \n",
       "COMMENT                                                                         >"
      ]
     },
     "execution_count": 50,
     "metadata": {},
     "output_type": "execute_result"
    }
   ],
   "source": [
    "image_head = fits.getheader(\"data_test/test_photo.fits\")\n",
    "print(len(image_head))\n",
    "image_head.keys\n",
    "# print(image_head)"
   ]
  },
  {
   "cell_type": "markdown",
   "metadata": {},
   "source": [
    "## show to the screen via plt"
   ]
  },
  {
   "cell_type": "code",
   "execution_count": 20,
   "metadata": {},
   "outputs": [
    {
     "name": "stderr",
     "output_type": "stream",
     "text": [
      "C:\\Users\\ishay\\AppData\\Local\\Temp/ipykernel_6308/913046456.py:3: MatplotlibDeprecationWarning: Auto-removal of grids by pcolor() and pcolormesh() is deprecated since 3.5 and will be removed two minor releases later; please call grid(False) first.\n",
      "  plt.colorbar()\n"
     ]
    },
    {
     "data": {
      "text/plain": [
       "<matplotlib.colorbar.Colorbar at 0x147313823d0>"
      ]
     },
     "execution_count": 20,
     "metadata": {},
     "output_type": "execute_result"
    },
    {
     "data": {
      "image/png": "[encoded data removed]",
      "text/plain": [
       "<Figure size 576x432 with 2 Axes>"
      ]
     },
     "metadata": {},
     "output_type": "display_data"
    }
   ],
   "source": [
    "plt.figure()\n",
    "plt.imshow(image_file[0].data, cmap='gray')\n",
    "plt.colorbar()"
   ]
  },
  {
   "cell_type": "markdown",
   "metadata": {},
   "source": [
    "## write to the same file"
   ]
  },
  {
   "cell_type": "code",
   "execution_count": 8,
   "metadata": {},
   "outputs": [
    {
     "name": "stdout",
     "output_type": "stream",
     "text": [
      "\n",
      "test new comment\n",
      "its a test\n",
      "test new comment\n"
     ]
    }
   ],
   "source": [
    "# can be done with:\n",
    "# image_file.writeto(\"data_test/test_write.fits\")\n",
    "\n",
    "# all changes are saving to the file at close or at flush\n",
    "with fits.open('data_test/test_photo.fits', mode='update') as hdul:\n",
    "    hdr = hdul[0].header # get headers\n",
    "\n",
    "    print(hdr['comment'][-1]) # take only the last comment header\n",
    "    hdr['comment'][-1] = \"test new comment\" # apply text\n",
    "    print(hdul[0].header['comment'][-1]) #print from the main\n",
    "\n",
    "    hdul.flush()  # changes are written back to original.fits\n",
    "\n",
    "    hdr.set(\"ttt\",'its a test') # add new header or replace exist\n",
    "    print(hdr[\"ttt\"]) # if header doesn't exist it throw error so try catch\n",
    "    \n",
    "    print(hdr[-1]) #show the last header\n",
    "    \n",
    "# closing the file will also flush any changes and prevent further writing\n",
    "\n",
    "# if you do somthing like:\n",
    "# hdr['comment'] = 'Edwin Hubble really knew his stuff'\n",
    "# it append new one because:\n",
    "# Comment or history records are added like normal cards, though in their case a new card is always created, rather than updating an existing HISTORY or COMMENT card"
   ]
  },
  {
   "cell_type": "markdown",
   "metadata": {},
   "source": [
    "## concatenate 2 pictures"
   ]
  },
  {
   "cell_type": "code",
   "execution_count": 21,
   "metadata": {},
   "outputs": [
    {
     "name": "stderr",
     "output_type": "stream",
     "text": [
      "C:\\Users\\ishay\\AppData\\Local\\Temp/ipykernel_6308/27881109.py:10: MatplotlibDeprecationWarning: Auto-removal of grids by pcolor() and pcolormesh() is deprecated since 3.5 and will be removed two minor releases later; please call grid(False) first.\n",
      "  plt.colorbar()\n"
     ]
    },
    {
     "data": {
      "image/png": "[encoded data removed]",
      "text/plain": [
       "<Figure size 576x432 with 2 Axes>"
      ]
     },
     "metadata": {},
     "output_type": "display_data"
    }
   ],
   "source": [
    "image = image_file[0] # read the data from array of data\n",
    "import numpy as np\n",
    "n = np.zeros(shape=(100,100))\n",
    "n[:,:] = 1\n",
    "n[25:75,25:75] = image.data[25:75,25:75] # append it yo np array\n",
    "\n",
    "# show the image\n",
    "plt.figure()\n",
    "plt.imshow(n, cmap='gray')\n",
    "plt.colorbar()\n",
    "\n",
    "\n",
    "########     WIP\n",
    "# save the new image\n",
    "# hdul = fits.HDUList([primary_hdu, image_hdu, table_hdu]) # to add list of images in one file\n",
    "\n",
    "hdu = fits.PrimaryHDU(n)\n",
    "\n",
    "hdr = fits.Header()\n",
    "hdr['OBSERVER'] = 'Edwin Hubble'\n",
    "hdr['COMMENT'] = \"Here's some commentary about this FITS file.\"\n",
    "# empty_primary = fits.PrimaryHDU(header=hdr) # to make with only header\n",
    "\n",
    "hdul = fits.HDUList([hdu])\n"
   ]
  },
  {
   "cell_type": "markdown",
   "metadata": {},
   "source": []
  },
  {
   "cell_type": "code",
   "execution_count": 10,
   "metadata": {},
   "outputs": [],
   "source": [
    "image_file.close()"
   ]
  }
 ],
 "metadata": {
  "interpreter": {
   "hash": "e2d7de3c0fddfd044744865134ea5d4ea3991565db8dbe844eb8ec6ac88b0ab2"
  },
  "kernelspec": {
   "display_name": "myenv",
   "language": "python",
   "name": "python3"
  },
  "language_info": {
   "codemirror_mode": {
    "name": "ipython",
    "version": 3
   },
   "file_extension": ".py",
   "mimetype": "text/x-python",
   "name": "python",
   "nbconvert_exporter": "python",
   "pygments_lexer": "ipython3",
   "version": "3.9.2"
  }
 },
 "nbformat": 4,
 "nbformat_minor": 2
}
